{
 "cells": [
  {
   "cell_type": "markdown",
   "metadata": {},
   "source": [
    "# Cryptocurrency Data Analysis\n",
    "\n",
    "This notebook provides interactive exploration and analysis of cryptocurrency price data.\n",
    "\n",
    "## Contents\n",
    "1. Data Loading\n",
    "2. Exploratory Data Analysis\n",
    "3. Price Trend Visualization\n",
    "4. Volatility Analysis\n",
    "5. Feature Correlation"
   ]
  },
  {
   "cell_type": "code",
   "execution_count": null,
   "metadata": {},
   "source": [
    "# Import necessary libraries\n",
    "import os\n",
    "import pandas as pd\n",
    "import numpy as np\n",
    "import matplotlib.pyplot as plt\n",
    "import seaborn as sns\n",
    "from datetime import datetime, timedelta\n",
    "\n",
    "# Enable better plot visualization in the notebook\n",
    "%matplotlib inline\n",
    "plt.style.use('ggplot')\n",
    "sns.set(style=\"darkgrid\")"
   ]
  },
  {
   "cell_type": "markdown",
   "metadata": {},
   "source": [
    "## 1. Data Loading\n",
    "\n",
    "Load cryptocurrency data from JSON files or database"
   ]
  },
  {
   "cell_type": "code",
   "execution_count": null,
   "metadata": {},
   "source": [
    "# Load data from JSON\n",
    "def load_json_data(file_path):\n",
    "    \"\"\"Load data from a JSON file\"\"\"\n",
    "    if not os.path.exists(file_path):\n",
    "        print(f\"File not found: {file_path}\")\n",
    "        return None\n",
    "    \n",
    "    return pd.read_json(file_path)\n",
    "\n",
    "# Example: Load Bitcoin data\n",
    "btc_data_path = '../data/bitcoin.json'\n",
    "btc_data = load_json_data(btc_data_path)\n",
    "\n",
    "if btc_data is not None:\n",
    "    btc_data.head()\n",
    "else:\n",
    "    print(\"Please run the CLI tool first to download data or specify the correct path.\")"
   ]
  },
  {
   "cell_type": "markdown",
   "metadata": {},
   "source": [
    "## 2. Exploratory Data Analysis"
   ]
  },
  {
   "cell_type": "code",
   "execution_count": null,
   "metadata": {},
   "source": [
    "# Function to convert and prepare data\n",
    "def prepare_data(df):\n",
    "    \"\"\"Prepare the dataframe for analysis\"\"\"\n",
    "    if df is None:\n",
    "        return None\n",
    "    \n",
    "    # Ensure date column is datetime\n",
    "    df['date'] = pd.to_datetime(df['date'])\n",
    "    \n",
    "    # Sort by date\n",
    "    df = df.sort_values('date')\n",
    "    \n",
    "    # Set date as index\n",
    "    df = df.set_index('date')\n",
    "    \n",
    "    return df\n",
    "\n",
    "# Prepare data\n",
    "if 'btc_data' in locals() and btc_data is not None:\n",
    "    btc_prepared = prepare_data(btc_data)\n",
    "    \n",
    "    # Display basic statistics\n",
    "    print(\"Basic Statistics:\")\n",
    "    btc_prepared.describe()"
   ]
  },
  {
   "cell_type": "markdown",
   "metadata": {},
   "source": [
    "## 3. Price Trend Visualization"
   ]
  },
  {
   "cell_type": "code",
   "execution_count": null,
   "metadata": {},
   "source": [
    "if 'btc_prepared' in locals() and btc_prepared is not None:\n",
    "    # Plot price over time\n",
    "    plt.figure(figsize=(14, 7))\n",
    "    plt.plot(btc_prepared.index, btc_prepared['price'], color='blue')\n",
    "    plt.title('Bitcoin Price Over Time')\n",
    "    plt.xlabel('Date')\n",
    "    plt.ylabel('Price (USD)')\n",
    "    plt.grid(True)\n",
    "    plt.show()"
   ]
  },
  {
   "cell_type": "markdown",
   "metadata": {},
   "source": [
    "## 4. Volatility Analysis"
   ]
  },
  {
   "cell_type": "code",
   "execution_count": null,
   "metadata": {},
   "source": [
    "if 'btc_prepared' in locals() and btc_prepared is not None:\n",
    "    # Calculate daily returns\n",
    "    btc_prepared['daily_return'] = btc_prepared['price'].pct_change()\n",
    "    \n",
    "    # Calculate rolling volatility (30-day window)\n",
    "    btc_prepared['volatility'] = btc_prepared['daily_return'].rolling(window=30).std() * np.sqrt(30)\n",
    "    \n",
    "    # Plot volatility\n",
    "    plt.figure(figsize=(14, 7))\n",
    "    plt.plot(btc_prepared.index, btc_prepared['volatility'], color='red')\n",
    "    plt.title('Bitcoin 30-Day Rolling Volatility')\n",
    "    plt.xlabel('Date')\n",
    "    plt.ylabel('Volatility')\n",
    "    plt.grid(True)\n",
    "    plt.show()"
   ]
  },
  {
   "cell_type": "markdown",
   "metadata": {},
   "source": [
    "## 5. Feature Correlation"
   ]
  },
  {
   "cell_type": "code",
   "execution_count": null,
   "metadata": {},
   "source": [
    "if 'btc_prepared' in locals() and btc_prepared is not None:\n",
    "    # Add some features\n",
    "    btc_prepared['7d_avg'] = btc_prepared['price'].rolling(window=7).mean()\n",
    "    btc_prepared['30d_avg'] = btc_prepared['price'].rolling(window=30).mean()\n",
    "    btc_prepared['price_7d_ratio'] = btc_prepared['price'] / btc_prepared['7d_avg']\n",
    "    \n",
    "    # Drop NaN values\n",
    "    corr_data = btc_prepared.dropna()\n",
    "    \n",
    "    # Calculate correlation matrix\n",
    "    corr_matrix = corr_data.corr()\n",
    "    \n",
    "    # Plot correlation heatmap\n",
    "    plt.figure(figsize=(10, 8))\n",
    "    sns.heatmap(corr_matrix, annot=True, cmap='coolwarm', linewidths=0.5)\n",
    "    plt.title('Feature Correlation Matrix')\n",
    "    plt.show()"
   ]
  }
 ],
 "metadata": {
  "kernelspec": {
   "display_name": "Python 3",
   "language": "python",
   "name": "python3"
  },
  "language_info": {
   "codemirror_mode": {
    "name": "ipython",
    "version": 3
   },
   "file_extension": ".py",
   "mimetype": "text/x-python",
   "name": "python",
   "nbconvert_exporter": "python",
   "pygments_lexer": "ipython3",
   "version": "3.8.0"
  }
 },
 "nbformat": 4,
 "nbformat_minor": 4
}
